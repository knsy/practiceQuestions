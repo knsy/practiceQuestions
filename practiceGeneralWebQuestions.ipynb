{
 "cells": [
  {
   "cell_type": "markdown",
   "metadata": {},
   "source": [
    "# General\n"
   ]
  },
  {
   "cell_type": "markdown",
   "metadata": {},
   "source": [
    "######  What did you learn yesterday/this week?\n",
    "Today I learned about jupyter. A python notebook application.\n",
    "Yesterday, I learned some french. Started learning a song on a guitar."
   ]
  },
  {
   "cell_type": "markdown",
   "metadata": {},
   "source": [
    "##### What excites or interests you about coding?\n",
    "The ability to create. The insane power to create. It's like legos on amphetamines. Like being halfway to being a deity."
   ]
  },
  {
   "cell_type": "markdown",
   "metadata": {},
   "source": [
    "##### What is a recent technical challenge you experienced and how did you solve it?\n",
    "- should be coding related.\n",
    "- should show how I overcame things.\n"
   ]
  },
  {
   "cell_type": "markdown",
   "metadata": {},
   "source": [
    "# Web"
   ]
  },
  {
   "cell_type": "markdown",
   "metadata": {},
   "source": [
    "##### What does a doctype do?\n",
    "_initial:_ doctype specifies what parser(in regards to language and version) should be used to parse the document.\n",
    "\n",
    "_after research:_ specifies what version of (X)HTML to use for parsing. I erroneously thought that it also applies to other languages like php but no. Looks like this: <!DOCTYPE html>"
   ]
  },
  {
   "cell_type": "markdown",
   "metadata": {},
   "source": [
    "##### What's the difference between full standards mode, almost standards mode and quirks mode?\n",
    " _initial:_ no clue.\n",
    " \n",
    " _after research:_ When standards were introduced for HTML and CSS, around the era of IE5 and Netscape, there needed to be a way for the renderer to know which specification the page was written for. For old, IE5 and Netscape pages, quirks mode is used. For all modern browsers full standards mode is used. Almost standard is declared for compatibility with very few quirks, mainly how height of certain elements is calculated. The rendering mode is inferred from the DOCTYPE specification used."
   ]
  }
 ],
 "metadata": {
  "kernelspec": {
   "display_name": "Python 3",
   "language": "python",
   "name": "python3"
  },
  "language_info": {
   "codemirror_mode": {
    "name": "ipython",
    "version": 3
   },
   "file_extension": ".py",
   "mimetype": "text/x-python",
   "name": "python",
   "nbconvert_exporter": "python",
   "pygments_lexer": "ipython3",
   "version": "3.6.2"
  }
 },
 "nbformat": 4,
 "nbformat_minor": 2
}
