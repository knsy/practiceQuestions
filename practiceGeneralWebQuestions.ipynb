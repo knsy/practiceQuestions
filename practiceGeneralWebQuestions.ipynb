{
 "cells": [
  {
   "cell_type": "markdown",
   "metadata": {},
   "source": [
    "# Questions from here:\n",
    "https://github.com/h5bp/Front-end-Developer-Interview-Questions"
   ]
  },
  {
   "cell_type": "markdown",
   "metadata": {},
   "source": [
    "## General"
   ]
  },
  {
   "cell_type": "markdown",
   "metadata": {},
   "source": [
    "##### What's the difference between HTML and XHTML?\n",
    " _initial:_ \n",
    " \n",
    " _after research:_ "
   ]
  },
  {
   "cell_type": "markdown",
   "metadata": {},
   "source": [
    "### General That I Encountered"
   ]
  },
  {
   "cell_type": "markdown",
   "metadata": {},
   "source": [
    "##### What is polymorphism?\n",
    " _initial:_ \n",
    " \n",
    " _after research:_ "
   ]
  },
  {
   "cell_type": "markdown",
   "metadata": {},
   "source": [
    "##### What is an abstract class?\n",
    " _initial:_ \n",
    " \n",
    " _after research:_ "
   ]
  },
  {
   "cell_type": "markdown",
   "metadata": {},
   "source": [
    "## HTML"
   ]
  },
  {
   "cell_type": "markdown",
   "metadata": {},
   "source": [
    "##### What does a doctype do?\n",
    "_initial:_ doctype specifies what parser(in regards to language and version) should be used to parse the document.\n",
    "\n",
    "_after research:_ specifies what version of (X)HTML to use for parsing. I erroneously thought that it also applies to other languages like php but no. Looks like this: <!DOCTYPE html>"
   ]
  },
  {
   "cell_type": "markdown",
   "metadata": {},
   "source": [
    "##### What's the difference between full standards mode, almost standards mode and quirks mode?\n",
    " _initial:_ no clue.\n",
    " \n",
    " _after research:_ When standards were introduced for HTML and CSS, around the era of IE5 and Netscape, there needed to be a way for the renderer to know which specification the page was written for. For old, IE5 and Netscape pages, quirks mode is used. For all modern browsers full standards mode is used. Almost standard is declared for compatibility with very few quirks, mainly how height of certain elements is calculated. The rendering mode is inferred from the DOCTYPE specification used."
   ]
  },
  {
   "cell_type": "markdown",
   "metadata": {},
   "source": [
    "##### What's the difference between HTML and XHTML?\n",
    " _initial:_ \n",
    " \n",
    " _after research:_ "
   ]
  },
  {
   "cell_type": "markdown",
   "metadata": {},
   "source": [
    "##### How do you serve a page with content in multiple languages?\n",
    " _initial:_ \n",
    " \n",
    " _after research:_ "
   ]
  },
  {
   "cell_type": "markdown",
   "metadata": {},
   "source": [
    "##### What kind of things must you be wary of when design or developing for multilingual sites?\n",
    " _initial:_ \n",
    " \n",
    " _after research:_ "
   ]
  },
  {
   "cell_type": "markdown",
   "metadata": {},
   "source": [
    "##### What are data- attributes good for?\n",
    " _initial:_ no clue.\n",
    " \n",
    " _after research:_ "
   ]
  },
  {
   "cell_type": "markdown",
   "metadata": {},
   "source": [
    "##### Consider HTML5 as an open web platform. What are the building blocks of HTML5?\n",
    " _initial:_ \n",
    " \n",
    " _after research:_ "
   ]
  },
  {
   "cell_type": "markdown",
   "metadata": {},
   "source": [
    "##### Describe the difference between a cookie, sessionStorage and localStorage.\n",
    " _initial:_ Cookie is super tiny storage. SessionStorage is bigger but lasts only for the session. localStorage is large and permanent.\n",
    " \n",
    " _after research:_ "
   ]
  },
  {
   "cell_type": "markdown",
   "metadata": {},
   "source": [
    "##### Describe the difference between ```<script>```, ```<script async>``` and ```<script defer>```.\n",
    " _initial:_ \n",
    " \n",
    " _after research:_ "
   ]
  },
  {
   "cell_type": "markdown",
   "metadata": {},
   "source": [
    "##### Why is it generally a good idea to position CSS `<link>`s between `<head></head>` and JS `<script>`s just before `</body>`? Do you know any exceptions?\n",
    " _initial:_ Links are placed in the head to start loading ASAP because things like CSS take time to retrieve and need to be applied ASAP. `<script>` on the other hand might start manipulating the DOM and if it isn't loaded yet, no bueno, so they go at the end of the body to ensure that the DOM has been parsed by that point.\n",
    " \n",
    " _after research:_ "
   ]
  },
  {
   "cell_type": "markdown",
   "metadata": {},
   "source": [
    "##### What is progressive rendering?\n",
    " _initial:_ Not sure, but if I had to guess, I'd say that progressive rendering is that the browser renders elements as they become available.\n",
    " \n",
    " _after research:_ "
   ]
  },
  {
   "cell_type": "markdown",
   "metadata": {},
   "source": [
    "##### Why you would use a srcset attribute in an image tag? Explain the process the browser uses when evaluating the content of this attribute.\n",
    " _initial:_ no clue.\n",
    " \n",
    " _after research:_ "
   ]
  },
  {
   "cell_type": "markdown",
   "metadata": {},
   "source": [
    "##### Have you used different HTML templating languages before?\n",
    " _initial:_ is moustache/handlebars a language?\n",
    " \n",
    " _after research:_ "
   ]
  },
  {
   "cell_type": "markdown",
   "metadata": {},
   "source": [
    "## CSS"
   ]
  },
  {
   "cell_type": "markdown",
   "metadata": {},
   "source": [
    "##### What is the difference between classes and IDs in CSS?\n",
    " _initial:_ IDs are more specific than classes. There should only be one element with an ID where as many elements can have the same class. In CSS, classes are used to target multiple elements.\n",
    " \n",
    " _after research:_ "
   ]
  },
  {
   "cell_type": "markdown",
   "metadata": {},
   "source": [
    "##### What is CSS selector specificity and how does it work?\n",
    " _initial:_ It it how CSS determines how specific your rules are since more specific rules override the less specific ones. It is calculated on a point system where class adds some points, id is some other number of points. Those are separated by orders of magnitude, so, a specific id counts for something like 100 points, while class only,like 10.\n",
    " \n",
    " _after research:_ "
   ]
  },
  {
   "cell_type": "markdown",
   "metadata": {},
   "source": [
    "##### What's the difference between \"resetting\" and \"normalizing\" CSS? Which would you choose, and why?\n",
    " _initial:_ no clue.\n",
    " \n",
    " _after research:_ "
   ]
  },
  {
   "cell_type": "markdown",
   "metadata": {},
   "source": [
    "##### Describe Floats and how they work.\n",
    " _initial:_ Floats guide to which side of the parent element the floated element will be biased...\n",
    " \n",
    " _after research:_ "
   ]
  },
  {
   "cell_type": "markdown",
   "metadata": {},
   "source": [
    "##### Describe z-index and how stacking context is formed.\n",
    " _initial:_ Elements are stacked in layers, so one can be above the other. Z-index describes that. Not ssure what stacking context is.\n",
    " \n",
    " _after research:_ "
   ]
  },
  {
   "cell_type": "markdown",
   "metadata": {},
   "source": [
    "##### Describe BFC(Block Formatting Context) and how it works.\n",
    " _initial:_ not sure.\n",
    " \n",
    " _after research:_ "
   ]
  },
  {
   "cell_type": "markdown",
   "metadata": {},
   "source": [
    "##### What are the various clearing techniques and which is appropriate for what context?\n",
    " _initial:_ not sure.\n",
    " \n",
    " _after research:_ "
   ]
  },
  {
   "cell_type": "markdown",
   "metadata": {},
   "source": [
    "##### How would you approach fixing browser-specific styling issues?\n",
    " _initial:_ google.\n",
    " \n",
    " _after research:_ "
   ]
  },
  {
   "cell_type": "markdown",
   "metadata": {},
   "source": [
    "##### How do you serve your pages for feature-constrained browsers? \n",
    " _initial:_ no clue.\n",
    " \n",
    " _after research:_ "
   ]
  },
  {
   "cell_type": "markdown",
   "metadata": {},
   "source": [
    "##### What are the different ways to visually hide content (and make it available only for screen readers)?\n",
    " _initial:_ ARIA tags?\n",
    " \n",
    " _after research:_ "
   ]
  },
  {
   "cell_type": "markdown",
   "metadata": {},
   "source": [
    "##### Have you ever used a grid system, and if so, what do you prefer?\n",
    " _initial:_ bootstrap built in grid system works resonably well. \n",
    " \n",
    " _after research:_ "
   ]
  },
  {
   "cell_type": "markdown",
   "metadata": {},
   "source": [
    "##### Have you used or implemented media queries or mobile specific layouts/CSS?\n",
    " _initial:_ Saw them used in Bootstrap. \n",
    " \n",
    " _after research:_ "
   ]
  },
  {
   "cell_type": "markdown",
   "metadata": {},
   "source": [
    "##### Are you familiar with styling SVG?\n",
    " _initial:_ Nope. But SVG has a similar structure to HTML, so I wonder if it is stylable in a similar manner.\n",
    " \n",
    " _after research:_ "
   ]
  },
  {
   "cell_type": "markdown",
   "metadata": {},
   "source": [
    "##### Can you give an example of an @media property other than \"`screen`\"?\n",
    " _initial:_ nope.\n",
    " \n",
    " _after research:_ "
   ]
  },
  {
   "cell_type": "markdown",
   "metadata": {},
   "source": [
    "##### What are some of the \"gotchas\" for writing efficient CSS?\n",
    " _initial:_ I think that it has similar issues to c++. All of those complex rules are probably resource intensive, so simplifying rules might be more efficient to the point that if you have only a couple elements calling them by id's.\n",
    " \n",
    " _after research:_ "
   ]
  },
  {
   "cell_type": "markdown",
   "metadata": {},
   "source": [
    "##### What are the advantages/disadvantages of using CSS preprocessors? \n",
    " _initial:_ They include logical features into writing rules which makes the sourcecode more condensed and less error-prone, but probably generates rules that will never be used. Also, they need to be pre-processed.\n",
    " \n",
    " _after research:_ "
   ]
  },
  {
   "cell_type": "markdown",
   "metadata": {},
   "source": [
    "##### How would you implement a web design comp that uses non-standard fonts?\n",
    " _initial:_ How non-standard? There is a tag for including very specific fonts. Possibly store fonts on a CDN, for distribution of requests when page loads.\n",
    " \n",
    " _after research:_ "
   ]
  },
  {
   "cell_type": "markdown",
   "metadata": {},
   "source": [
    "##### Explain how a browser determines what elements match a CSS selector.\n",
    " _initial:_ no clue.\n",
    " \n",
    " _after research:_ "
   ]
  },
  {
   "cell_type": "markdown",
   "metadata": {},
   "source": [
    "##### Describe pseudo-elements and discuss what they are used for.\n",
    " _initial:_ div and span? not sure.\n",
    " \n",
    " _after research:_ "
   ]
  },
  {
   "cell_type": "markdown",
   "metadata": {},
   "source": [
    "##### Explain your understanding of the box model and how you would tell the browser in CSS to render your layout in different box models.\n",
    " _initial:_ Every element has a box around it. You put boxes into or next to other boxes. Not sure what different box models are.\n",
    " \n",
    " _after research:_ "
   ]
  },
  {
   "cell_type": "markdown",
   "metadata": {},
   "source": [
    "##### What does * { box-sizing: border-box; } do? What are its advantages?\n",
    " _initial:_ not sure.\n",
    " \n",
    " _after research:_ "
   ]
  },
  {
   "cell_type": "markdown",
   "metadata": {},
   "source": [
    "##### What is the CSS \"display\" property and can you give a few examples of its use?\n",
    " _initial:_ nope.\n",
    " \n",
    " _after research:_ "
   ]
  },
  {
   "cell_type": "markdown",
   "metadata": {},
   "source": [
    "##### What's the difference between inline and inline-block?\n",
    " _initial:_ not sure.\n",
    " \n",
    " _after research:_ "
   ]
  },
  {
   "cell_type": "markdown",
   "metadata": {},
   "source": [
    "##### What's the difference between a relative, fixed, absolute and statically positioned element?\n",
    " _initial:_ they are difinitions for different points of origin. Static positions your elements based on the display, so when you scroll, the page scrolls but this element stays in relation to the display. Absolute is based on the absolute top left corner of the page. Relative and fixed are based on the parent element, although now I wonder if I mixed static and fixed up.\n",
    " \n",
    " _after research:_ "
   ]
  },
  {
   "cell_type": "markdown",
   "metadata": {},
   "source": [
    "##### What existing CSS frameworks have you used locally, or in production? How would you change/improve them?\n",
    " _initial:_ Bootstrap?\n",
    " \n",
    " _after research:_ "
   ]
  },
  {
   "cell_type": "markdown",
   "metadata": {},
   "source": [
    "##### Have you played around with the new CSS Flexbox or Grid specs?\n",
    " _initial:_ not really, but I am excited that they are gaining traction and that there is now a nice native way to deal with grids without relying on Bootstrap.\n",
    " \n",
    " _after research:_ "
   ]
  },
  {
   "cell_type": "markdown",
   "metadata": {},
   "source": [
    "##### Can you explain the difference between coding a web site to be responsive versus using a mobile-first strategy?\n",
    " _initial:_ Responsive means that the site displays the best layout for the current screen size. I think mobile-first means that you design the site to be used on a mobile device as opposed to a desktop because of inherent interaction details that make using desktop layouts/elements unusable on mobile, but mobile elements still being usable on a desktop.\n",
    " \n",
    " _after research:_ "
   ]
  },
  {
   "cell_type": "markdown",
   "metadata": {},
   "source": [
    "##### Have you ever worked with retina graphics? If so, when and what techniques did you use?\n",
    " _initial:_ nope.\n",
    " \n",
    " _after research:_ "
   ]
  },
  {
   "cell_type": "markdown",
   "metadata": {},
   "source": [
    "##### Is there any reason you'd want to use translate() instead of \"absolute\" positioning, or vice-versa? And why?\n",
    " _initial:_ not sure. With translate, you set your positioning in relation to the parent element and then move it with translate(). With absolute positioning you are just positioning the element where you want it in the first place. To think of it, I think that translate() is animate-able.\n",
    " \n",
    " _after research:_ "
   ]
  },
  {
   "cell_type": "markdown",
   "metadata": {},
   "source": [
    "## JS"
   ]
  },
  {
   "cell_type": "markdown",
   "metadata": {},
   "source": [
    "##### Explain event delegation.\n",
    " _initial:_ Event propogates through the DOM until it is dealt with.\n",
    " \n",
    " _after research:_ "
   ]
  },
  {
   "cell_type": "markdown",
   "metadata": {},
   "source": [
    "##### Explain how \"this\" works in JavaScript.\n",
    " _initial:_ \n",
    " \n",
    " _after research:_ "
   ]
  },
  {
   "cell_type": "markdown",
   "metadata": {},
   "source": [
    "##### Explain how prototypal inheritance works\n",
    " _initial:_ Every object has a prototype on which it builds which is based on an object from which it is built. If a method isn't found in the prototype, method is looked for in the object's parents' prototype and so on until Object is reached from which all objects inherit.\n",
    " \n",
    " _after research:_ "
   ]
  },
  {
   "cell_type": "markdown",
   "metadata": {},
   "source": [
    "##### What do you think of AMD vs CommonJS?\n",
    " _initial:_ I think splitting up code into modules is amazing. Whether that is done AMD-style or CommonJS-style, I don't really have a preference one way of the other.\n",
    " \n",
    " _after research:_ "
   ]
  },
  {
   "cell_type": "markdown",
   "metadata": {},
   "source": [
    "##### Explain why the following doesn't work as an IIFE:\" function foo(){ }();\". \n",
    " _initial:_ Because we get a function declaration and definition, and then an empty statement. I think there is a warning or an error when you do that. To have this work as an IIFE you should put parenthesies around the function so that it is treated as an expression and so that the second set of parenthesies then becomes an invocation: `(function foo(){})();`\n",
    " \n",
    " _after research:_ "
   ]
  },
  {
   "cell_type": "markdown",
   "metadata": {},
   "source": [
    "##### What's the difference between a variable that is: null, undefined or undeclared? \n",
    " _initial:_ undeclared means that that variable was never created, never declared. Undefined means that it was declared but not defined, like var foo;, and null is a value that was assigned to the variable that represents nothingness. If I needed to check for any of these states, I'd google the exact comparison because it is not intuitive and super easy to get wrong from what I remember.\n",
    " \n",
    " _after research:_ "
   ]
  },
  {
   "cell_type": "markdown",
   "metadata": {},
   "source": [
    "##### What is a closure, and how/why would you use one?\n",
    " _initial:_ A closure is created when you have a function inside of another function to preserve the local state for the inner function to execute it. \n",
    " \n",
    " _after research:_ "
   ]
  },
  {
   "cell_type": "markdown",
   "metadata": {},
   "source": [
    "##### Can you describe the main difference between a forEach loop and a .map() loop and why you would pick one versus the other?\n",
    " _initial:_ They both work through an array/object(although now I wonder if they both actually do) and apply whatever you throw at it to each element.\n",
    " \n",
    " _after research:_ "
   ]
  },
  {
   "cell_type": "markdown",
   "metadata": {},
   "source": [
    "##### What's a typical use case for anonymous functions?\n",
    " _initial:_ IIFE. or when you need a small inline function. or when you send a function to .map()-type methods.\n",
    " \n",
    " _after research:_ "
   ]
  },
  {
   "cell_type": "markdown",
   "metadata": {},
   "source": [
    "##### How do you organize your code? (module pattern, classical inheritance?)\n",
    " _initial:_ Depends on within what I am working. Lately it seems modules are common especially since I spent a lot of time in Ember.\n",
    " \n",
    " _after research:_ "
   ]
  },
  {
   "cell_type": "markdown",
   "metadata": {},
   "source": [
    "##### What's the difference between host objects and native objects?\n",
    " _initial:_ no clue.\n",
    " \n",
    " _after research:_ "
   ]
  },
  {
   "cell_type": "markdown",
   "metadata": {},
   "source": [
    "##### Difference between: \"function Person(){}\", \"var person = Person()\", and \"var person = new Person()\"?\n",
    " _initial:_ I really should know this. \n",
    " \n",
    " _after research:_ "
   ]
  },
  {
   "cell_type": "markdown",
   "metadata": {},
   "source": [
    "##### What's the difference between \".call\" and \".apply\"?\n",
    " _initial:_ slightly different syntax? Both call the function with a specified context(this).\n",
    " \n",
    " _after research:_ "
   ]
  },
  {
   "cell_type": "markdown",
   "metadata": {},
   "source": [
    "##### Explain \"Function.prototype.bind\".\n",
    " _initial:_ Similar to .call and .apply but returns a new function that you already set 'this' in by binding it.\n",
    " \n",
    " _after research:_ "
   ]
  },
  {
   "cell_type": "markdown",
   "metadata": {},
   "source": [
    "##### EWhen would you use document.write()?\n",
    " _initial:_ Not sure if I used it recently.\n",
    " \n",
    " _after research:_ "
   ]
  },
  {
   "cell_type": "markdown",
   "metadata": {},
   "source": [
    "##### What's the difference between feature detection, feature inference, and using the UA string?\n",
    " _initial:_ no clue.\n",
    " \n",
    " _after research:_ "
   ]
  },
  {
   "cell_type": "markdown",
   "metadata": {},
   "source": [
    "##### Explain Ajax in as much detail as possible.\n",
    " _initial:_ Ajax is asynchronous js and xml allows you to make asynchronous requests where you pass in a callback function that executes when the request returns.\n",
    " \n",
    " _after research:_ "
   ]
  },
  {
   "cell_type": "markdown",
   "metadata": {},
   "source": [
    "##### What are the advantages and disadvantages of using Ajax?\n",
    " _initial:_ Allows for seamless applications where the page doesn't need to reload to display a new piece of data based on a request making for a nice user experience. Disadvantages... asynchronysity, things like callback hell/pyramid of hell where one request depends on another one and if there are a few of those dependancies it quickly becomes unmanageble.\n",
    " \n",
    " _after research:_ Google can't index AJAX content. Single origin policy enforced for security reasons."
   ]
  },
  {
   "cell_type": "markdown",
   "metadata": {},
   "source": [
    "##### Explain how JSONP works (and how it's not really Ajax).\n",
    " _initial:_ I think this is the first time I'm seeing 'JSONP'\n",
    " \n",
    " _after research:_ "
   ]
  },
  {
   "cell_type": "markdown",
   "metadata": {},
   "source": [
    "##### Have you ever used JavaScript templating? \n",
    " _initial:_ Handlebars. I like it.\n",
    " \n",
    " _after research:_ "
   ]
  },
  {
   "cell_type": "markdown",
   "metadata": {},
   "source": [
    "##### Explain \"hoisting\".\n",
    " _initial:_ variable declarations and function declaration/definition get pulled up/inserted to the top of the function in which they are defined.\n",
    " \n",
    " _after research:_ "
   ]
  },
  {
   "cell_type": "markdown",
   "metadata": {},
   "source": [
    "##### Describe event bubbling.\n",
    " _initial:_ An event goes up the DOM elements until it is stopped by an event handler. This allows for multiple elements to deal with an event.\n",
    " \n",
    " _after research:_ "
   ]
  },
  {
   "cell_type": "markdown",
   "metadata": {},
   "source": [
    "##### What's the difference between an \"attribute\" and a \"property\"?\n",
    " _initial:_ Should really know this.\n",
    " \n",
    " _after research:_ "
   ]
  },
  {
   "cell_type": "markdown",
   "metadata": {},
   "source": [
    "## Testing Questions"
   ]
  },
  {
   "cell_type": "markdown",
   "metadata": {},
   "source": [
    "##### What are some advantages/disadvantages to testing your code?\n",
    " _initial:_ \n",
    " \n",
    " _after research:_ "
   ]
  },
  {
   "cell_type": "markdown",
   "metadata": {},
   "source": [
    "## Performance Questions"
   ]
  },
  {
   "cell_type": "markdown",
   "metadata": {},
   "source": [
    "##### What tools would you use to find a performance bug in your code?\n",
    " _initial:_ \n",
    " \n",
    " _after research:_ "
   ]
  },
  {
   "cell_type": "markdown",
   "metadata": {},
   "source": [
    "## Network Questions"
   ]
  },
  {
   "cell_type": "markdown",
   "metadata": {},
   "source": [
    "##### Traditionally, why has it been better to serve site assets from multiple domains?\n",
    " _initial:_ \n",
    " \n",
    " _after research:_ "
   ]
  },
  {
   "cell_type": "markdown",
   "metadata": {},
   "source": [
    "## Coding Questions"
   ]
  },
  {
   "cell_type": "markdown",
   "metadata": {},
   "source": [
    "##### Question: What is the value of foo?"
   ]
  },
  {
   "cell_type": "code",
   "execution_count": null,
   "metadata": {
    "collapsed": true
   },
   "outputs": [],
   "source": [
    "var foo = 10 + '20';"
   ]
  },
  {
   "cell_type": "markdown",
   "metadata": {},
   "source": [
    " _initial:_ Type coersion of some sort will happen. I think that type coersion tries to align the second arguement with the first, so, 30? But upon running the code in console, the answer is \"1020\".\n",
    " \n",
    " _after research:_ "
   ]
  }
 ],
 "metadata": {
  "kernelspec": {
   "display_name": "Python 3",
   "language": "python",
   "name": "python3"
  },
  "language_info": {
   "codemirror_mode": {
    "name": "ipython",
    "version": 3
   },
   "file_extension": ".py",
   "mimetype": "text/x-python",
   "name": "python",
   "nbconvert_exporter": "python",
   "pygments_lexer": "ipython3",
   "version": "3.6.2"
  }
 },
 "nbformat": 4,
 "nbformat_minor": 2
}
