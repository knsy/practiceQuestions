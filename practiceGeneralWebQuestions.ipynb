{
 "cells": [
  {
   "cell_type": "markdown",
   "metadata": {},
   "source": [
    "# Questions from here:\n",
    "https://github.com/h5bp/Front-end-Developer-Interview-Questions"
   ]
  },
  {
   "cell_type": "markdown",
   "metadata": {},
   "source": [
    "## HTML"
   ]
  },
  {
   "cell_type": "markdown",
   "metadata": {},
   "source": [
    "##### What does a doctype do?\n",
    "_initial:_ doctype specifies what parser(in regards to language and version) should be used to parse the document.\n",
    "\n",
    "_after research:_ specifies what version of (X)HTML to use for parsing. I erroneously thought that it also applies to other languages like php but no. Looks like this: <!DOCTYPE html>"
   ]
  },
  {
   "cell_type": "markdown",
   "metadata": {},
   "source": [
    "##### What's the difference between full standards mode, almost standards mode and quirks mode?\n",
    " _initial:_ no clue.\n",
    " \n",
    " _after research:_ When standards were introduced for HTML and CSS, around the era of IE5 and Netscape, there needed to be a way for the renderer to know which specification the page was written for. For old, IE5 and Netscape pages, quirks mode is used. For all modern browsers full standards mode is used. Almost standard is declared for compatibility with very few quirks, mainly how height of certain elements is calculated. The rendering mode is inferred from the DOCTYPE specification used."
   ]
  },
  {
   "cell_type": "markdown",
   "metadata": {},
   "source": [
    "##### What's the difference between HTML and XHTML?\n",
    " _initial:_ \n",
    " \n",
    " _after research:_ "
   ]
  },
  {
   "cell_type": "markdown",
   "metadata": {},
   "source": [
    "##### How do you serve a page with content in multiple languages?\n",
    " _initial:_ \n",
    " \n",
    " _after research:_ "
   ]
  },
  {
   "cell_type": "markdown",
   "metadata": {},
   "source": [
    "##### What kind of things must you be wary of when design or developing for multilingual sites?\n",
    " _initial:_ \n",
    " \n",
    " _after research:_ "
   ]
  },
  {
   "cell_type": "markdown",
   "metadata": {},
   "source": [
    "##### What are data- attributes good for?\n",
    " _initial:_ no clue.\n",
    " \n",
    " _after research:_ "
   ]
  },
  {
   "cell_type": "markdown",
   "metadata": {},
   "source": [
    "##### Consider HTML5 as an open web platform. What are the building blocks of HTML5?\n",
    " _initial:_ \n",
    " \n",
    " _after research:_ "
   ]
  },
  {
   "cell_type": "markdown",
   "metadata": {},
   "source": [
    "##### Describe the difference between a cookie, sessionStorage and localStorage.\n",
    " _initial:_ Cookie is super tiny storage. SessionStorage is bigger but lasts only for the session. localStorage is large and permanent.\n",
    " \n",
    " _after research:_ "
   ]
  },
  {
   "cell_type": "markdown",
   "metadata": {},
   "source": [
    "##### Describe the difference between ```<script>```, ```<script async>``` and ```<script defer>```.\n",
    " _initial:_ \n",
    " \n",
    " _after research:_ "
   ]
  },
  {
   "cell_type": "markdown",
   "metadata": {},
   "source": [
    "##### Why is it generally a good idea to position CSS `<link>`s between `<head></head>` and JS `<script>`s just before `</body>`? Do you know any exceptions?\n",
    " _initial:_ Links are placed in the head to start loading ASAP because things like CSS take time to retrieve and need to be applied ASAP. `<script>` on the other hand might start manipulating the DOM and if it isn't loaded yet, no bueno, so they go at the end of the body to ensure that the DOM has been parsed by that point.\n",
    " \n",
    " _after research:_ "
   ]
  },
  {
   "cell_type": "markdown",
   "metadata": {},
   "source": [
    "##### What is progressive rendering?\n",
    " _initial:_ Not sure, but if I had to guess, I'd say that progressive rendering is that the browser renders elements as they become available.\n",
    " \n",
    " _after research:_ "
   ]
  },
  {
   "cell_type": "markdown",
   "metadata": {},
   "source": [
    "##### Why you would use a srcset attribute in an image tag? Explain the process the browser uses when evaluating the content of this attribute.\n",
    " _initial:_ no clue.\n",
    " \n",
    " _after research:_ "
   ]
  },
  {
   "cell_type": "markdown",
   "metadata": {},
   "source": [
    "##### Have you used different HTML templating languages before?\n",
    " _initial:_ is moustache/handlebars a language?\n",
    " \n",
    " _after research:_ "
   ]
  },
  {
   "cell_type": "markdown",
   "metadata": {},
   "source": [
    "## CSS"
   ]
  },
  {
   "cell_type": "markdown",
   "metadata": {},
   "source": [
    "##### What is the difference between classes and IDs in CSS?\n",
    " _initial:_ IDs are more specific than classes. There should only be one element with an ID where as many elements can have the same class. In CSS, classes are used to target multiple elements.\n",
    " \n",
    " _after research:_ "
   ]
  },
  {
   "cell_type": "markdown",
   "metadata": {},
   "source": [
    "## JS"
   ]
  },
  {
   "cell_type": "markdown",
   "metadata": {},
   "source": [
    "##### Explain event delegation.\n",
    " _initial:_ Event propogates through the DOM until it is dealt with.\n",
    " \n",
    " _after research:_ "
   ]
  },
  {
   "cell_type": "markdown",
   "metadata": {},
   "source": [
    "## Testing Questions"
   ]
  },
  {
   "cell_type": "markdown",
   "metadata": {},
   "source": [
    "##### What are some advantages/disadvantages to testing your code?\n",
    " _initial:_ \n",
    " \n",
    " _after research:_ "
   ]
  },
  {
   "cell_type": "markdown",
   "metadata": {},
   "source": [
    "## Performance Questions"
   ]
  },
  {
   "cell_type": "markdown",
   "metadata": {},
   "source": [
    "##### What tools would you use to find a performance bug in your code?\n",
    " _initial:_ \n",
    " \n",
    " _after research:_ "
   ]
  },
  {
   "cell_type": "markdown",
   "metadata": {},
   "source": [
    "## Network Questions"
   ]
  },
  {
   "cell_type": "markdown",
   "metadata": {},
   "source": [
    "##### Traditionally, why has it been better to serve site assets from multiple domains?\n",
    " _initial:_ \n",
    " \n",
    " _after research:_ "
   ]
  },
  {
   "cell_type": "markdown",
   "metadata": {},
   "source": [
    "## Coding Questions"
   ]
  },
  {
   "cell_type": "markdown",
   "metadata": {},
   "source": [
    "##### Question: What is the value of foo?"
   ]
  },
  {
   "cell_type": "code",
   "execution_count": null,
   "metadata": {
    "collapsed": true
   },
   "outputs": [],
   "source": [
    "var foo = 10 + '20';"
   ]
  },
  {
   "cell_type": "markdown",
   "metadata": {},
   "source": [
    " _initial:_ Type coersion of some sort will happen. I think that type coersion tries to align the second arguement with the first, so, 30? But upon running the code in console, the answer is \"1020\".\n",
    " \n",
    " _after research:_ "
   ]
  }
 ],
 "metadata": {
  "kernelspec": {
   "display_name": "Python 3",
   "language": "python",
   "name": "python3"
  },
  "language_info": {
   "codemirror_mode": {
    "name": "ipython",
    "version": 3
   },
   "file_extension": ".py",
   "mimetype": "text/x-python",
   "name": "python",
   "nbconvert_exporter": "python",
   "pygments_lexer": "ipython3",
   "version": "3.6.2"
  }
 },
 "nbformat": 4,
 "nbformat_minor": 2
}
