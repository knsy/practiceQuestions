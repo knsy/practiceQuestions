{
 "cells": [
  {
   "cell_type": "markdown",
   "metadata": {},
   "source": [
    "# Algorithms\n",
    "\n",
    "https://techiedelight.quora.com/500-Data-Structures-and-Algorithms-practice-problems-and-their-solutions"
   ]
  },
  {
   "cell_type": "markdown",
   "metadata": {},
   "source": [
    "### 001 Find a Pair with a Given Sum in an Array\n",
    "\n",
    "### Ex:\n",
    "Arr = [3, 10, 11, 4, 2, 3]\n",
    "Sum = 14"
   ]
  },
  {
   "cell_type": "markdown",
   "metadata": {},
   "source": [
    "######  Naive:\n",
    "Pick number, cycle through all the other numbers in the array to find if a match exists. Summing each pair and checking.\n",
    "\n",
    "#####  Complexity:\n",
    "N^2 because of the 2 loops going through all the elements\n",
    "\n",
    "###### Notes:\n",
    "- checks things redundantly so pairs show up twice.\n",
    "- checks all pairs, which is unnecessary because once the first number is picked, the second is known..."
   ]
  },
  {
   "cell_type": "code",
   "execution_count": 12,
   "metadata": {
    "scrolled": false
   },
   "outputs": [
    {
     "name": "stdout",
     "output_type": "stream",
     "text": [
      "num 1: 3 num 2: 11\n",
      "num 1: 10 num 2: 4\n",
      "num 1: 11 num 2: 3\n",
      "num 1: 4 num 2: 10\n",
      "num 1: 3 num 2: 11\n"
     ]
    }
   ],
   "source": [
    "arr = [3, 10, 11, 4, 2, 3]\n",
    "sum = 14\n",
    "\n",
    "for i in arr:\n",
    "    for n in arr:\n",
    "        # print(i + n)\n",
    "        \n",
    "        if (i + n) == sum:\n",
    "            print(\"num 1: \" + str(i) + \" num 2: \" + str(n))\n",
    "            break"
   ]
  },
  {
   "cell_type": "markdown",
   "metadata": {},
   "source": [
    "######  Faster:\n",
    "Sort array, pick number, do binary search to see if the matching number is present.\n",
    "\n",
    "##### Complexity:\n",
    "Sortin array can be done in O(NlogN)?. Binary search in O(logN). So, NlogN "
   ]
  },
  {
   "cell_type": "markdown",
   "metadata": {},
   "source": [
    "### 002 Print All Aub-arrays With 0 Sums\n",
    "\n",
    "### Ex:\n",
    "Arr = [3, 7, -2, 5, -1, -2]\n",
    "\n",
    "sortedArr = [-2,-2,-1,3,5,7]"
   ]
  },
  {
   "cell_type": "markdown",
   "metadata": {},
   "source": [
    "##### Naive:\n",
    "Not sure how I'd go about doing this the naive way."
   ]
  },
  {
   "cell_type": "markdown",
   "metadata": {},
   "source": [
    "##### Faster:\n",
    "Sort in ascending order. Init 2 pointers tracking front and back while back is bigger than front. Pick first values, check if the sum is 0. If it is save off. Else, if above 0, move front 1 in, if below, move back 1 in.\n",
    "\n",
    "##### Notes:\n",
    "- when read the naive way, got it, but the non-naive way was over my head. Need to read up on maps."
   ]
  },
  {
   "cell_type": "markdown",
   "metadata": {},
   "source": [
    "##### Faster:\n",
    "Sort in ascending order. Init 2 pointers at 0, if no 0, first + num and first - num. Add pointer values to subarray, if subarray 0, save it. If not, if below move the positive pointer higher, if above, move negative pointer higher and recheck. repeat.\n",
    "\n",
    "!!doesn't work."
   ]
  },
  {
   "cell_type": "markdown",
   "metadata": {},
   "source": [
    "### 003 Sort a Binary Array in Linear Time\n",
    "Given a binary array sort it in linear time and constant space. Output should contain all zeroes followed by all ones.\n",
    "\n",
    "### Ex:\n",
    "Arr = [1, 0, 0, 1, 0, 1]\n",
    "\n",
    "resultArr = [0, 0, 0, 1, 1, 1]"
   ]
  },
  {
   "cell_type": "code",
   "execution_count": null,
   "metadata": {
    "collapsed": true
   },
   "outputs": [],
   "source": []
  }
 ],
 "metadata": {
  "kernelspec": {
   "display_name": "Python 3",
   "language": "python",
   "name": "python3"
  },
  "language_info": {
   "codemirror_mode": {
    "name": "ipython",
    "version": 3
   },
   "file_extension": ".py",
   "mimetype": "text/x-python",
   "name": "python",
   "nbconvert_exporter": "python",
   "pygments_lexer": "ipython3",
   "version": "3.6.2"
  }
 },
 "nbformat": 4,
 "nbformat_minor": 2
}
